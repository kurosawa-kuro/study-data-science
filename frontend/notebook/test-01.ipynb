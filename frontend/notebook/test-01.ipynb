{
 "cells": [
  {
   "cell_type": "code",
   "execution_count": 1,
   "id": "4461b265-fe9d-49e1-87b4-a155c66466b3",
   "metadata": {},
   "outputs": [
    {
     "name": "stdout",
     "output_type": "stream",
     "text": [
      "Hello, World!\n"
     ]
    }
   ],
   "source": [
    "# This cell prints Hello, World! to demonstrate a simple example.\n",
    "print(\"Hello, World!\")"
   ]
  },
  {
   "cell_type": "code",
   "execution_count": 7,
   "id": "c19e0a97-de40-4036-94cc-a16450c011eb",
   "metadata": {},
   "outputs": [
    {
     "name": "stdout",
     "output_type": "stream",
     "text": [
      "[{'id': 1, 'title': 'Hello, World!'}, {'id': 2, 'title': 'Hello, World!'}, {'id': 3, 'title': 'Hello, World!'}, {'id': 4, 'title': 'Hello, World!'}, {'id': 5, 'title': 'Hello, World!'}, {'id': 6, 'title': 'Hello, World!'}, {'id': 7, 'title': 'Hello, World!'}, {'id': 8, 'title': 'Hello, World!'}, {'id': 9, 'title': 'Hello, World!'}, {'id': 10, 'title': 'Hello, World!'}, {'id': 11, 'title': 'Hello, World!'}, {'id': 12, 'title': 'Hello, World!'}, {'id': 13, 'title': 'Hello, World!'}, {'id': 14, 'title': 'Hello, World!'}, {'id': 15, 'title': 'Hello, World!'}, {'id': 16, 'title': 'Hello, World!'}, {'id': 17, 'title': 'Hello, World!'}, {'id': 18, 'title': 'Hello, World!'}]\n"
     ]
    }
   ],
   "source": [
    "import requests\n",
    "import json\n",
    "from IPython.display import JSON\n",
    "\n",
    "# 設定\n",
    "LOCAL_HOST = \"localhost\"\n",
    "PORT = \"3000\"  # あなたのサーバーのポートに合わせて変更してください\n",
    "BASE_URL = f\"http://{LOCAL_HOST}:{PORT}\"\n",
    "\n",
    "# GETリクエストの実行\n",
    "response = requests.get(f\"{BASE_URL}/api/v1/microposts\")\n",
    "\n",
    "# レスポンスの表示\n",
    "if response.status_code == 200:\n",
    "    print(response.json())\n",
    "else:\n",
    "    print(f\"Error: {response.status_code}\")\n",
    "    print(response.text)"
   ]
  }
 ],
 "metadata": {
  "kernelspec": {
   "display_name": "Python 3 (ipykernel)",
   "language": "python",
   "name": "python3"
  },
  "language_info": {
   "codemirror_mode": {
    "name": "ipython",
    "version": 3
   },
   "file_extension": ".py",
   "mimetype": "text/x-python",
   "name": "python",
   "nbconvert_exporter": "python",
   "pygments_lexer": "ipython3",
   "version": "3.12.3"
  }
 },
 "nbformat": 4,
 "nbformat_minor": 5
}
